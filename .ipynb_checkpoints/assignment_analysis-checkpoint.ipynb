{
 "cells": [
  {
   "cell_type": "code",
   "execution_count": 40,
   "metadata": {},
   "outputs": [],
   "source": [
    "import numpy as np\n",
    "import pandas as pd\n",
    "import os\n",
    "import requests\n",
    "import matplotlib.pyplot as plt\n",
    "import time\n",
    "import seaborn as sns\n",
    "import datetime\n",
    "from datetime import date\n",
    "from bs4 import BeautifulSoup as bs"
   ]
  },
  {
   "cell_type": "markdown",
   "metadata": {},
   "source": [
    "## 1. Project Overview"
   ]
  },
  {
   "cell_type": "markdown",
   "metadata": {},
   "source": [
    "The aim of the following analysis is to test out the old adage \"you have to spend money to make money\" within the film industry. As a self-anointed cinephile who spends much of his time either watching films after work or listening to film related podcasts during work, I've always been fascinated with the industry. Coming from a finance role/background, the financial side of film production has always fascinated me but I never had the tools to to obtain the sources of information required and to analyse it accordingly. \n",
    "\n",
    "This course has provided me with those missing tools and I will not let an opportunity pass to put this together both for purposes of this course and for my personal needs going forward. "
   ]
  },
  {
   "cell_type": "markdown",
   "metadata": {},
   "source": [
    "My first task in this project is to build a population of films with accurate production costs, to do this I pulled a number of .csv files from Kaggle and reviewed them in Excel prior to loading them into Python. Once I had the population and the variable (Production Cost), I then considered what other variables would be best to compare the costs against.\n",
    "\n",
    "Below are the other variables I aim to compare production costs against:\n",
    "- Worldwide Gross Amounts:\n",
    "    - Does spending more make more?\n",
    "- IMDB User Ratings:\n",
    "    - Does spending more increase audience enjoyment?\n",
    "- Rotten Tomato Critic Scores:\n",
    "    - Does spending more increase critical reception?\n",
    "\n",
    "Using these three variables, I can expand on my analysis and see if there is a genuine correlation between production cost and the other variables."
   ]
  },
  {
   "cell_type": "markdown",
   "metadata": {},
   "source": [
    "## 2. Data Loading and Cleansing"
   ]
  },
  {
   "cell_type": "markdown",
   "metadata": {},
   "source": [
    "The first step is to build up a population of films, I have sourced eight .csv files from Kaggle most of which provide a list of film titles, release dates/years, production costs and worldwide gross amounts. Only some of the files contain all of those variables so, I must build a Dataframes for production costs and worldwide grosses separately cleanse them removing duplicates and blanks before joining them as one. \n",
    "\n",
    "But first I should load the files:"
   ]
  },
  {
   "cell_type": "markdown",
   "metadata": {},
   "source": [
    "## Loading the Film Production/Gross Files:"
   ]
  },
  {
   "cell_type": "code",
   "execution_count": 42,
   "metadata": {},
   "outputs": [],
   "source": [
    "movie_filenames = os.listdir(\"C:/Users/New User/Documents/UCD/Assignment/assignment_files/csv_downloads/movie_data/\") # lists the csv files in my folder"
   ]
  },
  {
   "cell_type": "code",
   "execution_count": 43,
   "metadata": {},
   "outputs": [],
   "source": [
    "def extract_name_files(text): # this removes the .csv from the name the files in the folder\n",
    "    name_file = text.strip('.csv').lower()\n",
    "    return name_file"
   ]
  },
  {
   "cell_type": "code",
   "execution_count": 44,
   "metadata": {},
   "outputs": [],
   "source": [
    "names_of_movie_files = list(map(extract_name_files,movie_filenames)) # creates the list that to be used to name the dataframes from the filenames"
   ]
  },
  {
   "cell_type": "code",
   "execution_count": 45,
   "metadata": {},
   "outputs": [
    {
     "name": "stderr",
     "output_type": "stream",
     "text": [
      "C:\\Users\\New User\\anaconda3\\lib\\site-packages\\IPython\\core\\interactiveshell.py:3338: DtypeWarning: Columns (10) have mixed types.Specify dtype option on import or set low_memory=False.\n",
      "  if (await self.run_code(code, result,  async_=asy)):\n"
     ]
    }
   ],
   "source": [
    "for i in range(0,len(names_of_movie_files)): # saves each csv in a dataframe structure\n",
    "    exec(names_of_movie_files[i] + \" =  pd.read_csv('C:/Users/New User/Documents/UCD/Assignment/assignment_files/csv_downloads/movie_data/'+movie_filenames[i])\")"
   ]
  },
  {
   "cell_type": "code",
   "execution_count": 46,
   "metadata": {},
   "outputs": [
    {
     "name": "stdout",
     "output_type": "stream",
     "text": [
      "Variable                 Type         Data/Info\n",
      "-----------------------------------------------\n",
      "all_time_worldwide_bo    DataFrame         Rank  Year          <...>n\\n[595 rows x 6 columns]\n",
      "blockbuster              DataFrame         release_year  rank_i<...>\\n[430 rows x 13 columns]\n",
      "movie_industry_dataset   DataFrame                             <...>n[7633 rows x 15 columns]\n",
      "tgm_bo_summary           DataFrame         Rank                <...>\\n[1000 rows x 5 columns]\n",
      "tmdb_movie               DataFrame             budget          <...>n[4803 rows x 20 columns]\n",
      "tmds_movies_metadata     DataFrame           adult             <...>[45447 rows x 24 columns]\n",
      "top_grossing_file        DataFrame         Release Date Movie T<...>\\n[3900 rows x 5 columns]\n",
      "top_grossing_film        DataFrame             Release_Type    <...>\\n[1000 rows x 7 columns]\n",
      "top_movies_data          DataFrame         Release Date Movie T<...>\\n[3900 rows x 5 columns]\n"
     ]
    }
   ],
   "source": [
    "# I will then use the below to display the dataframes currently loaded:\n",
    "%whos DataFrame"
   ]
  },
  {
   "cell_type": "markdown",
   "metadata": {},
   "source": [
    "## Loading the Film Rating Files:"
   ]
  },
  {
   "cell_type": "markdown",
   "metadata": {},
   "source": [
    "Repeating the same steps as before but for the film rating files in a different folder, however this time I can reuse the extract_name_files(text) function defined earlier which means one less step:"
   ]
  },
  {
   "cell_type": "code",
   "execution_count": 49,
   "metadata": {},
   "outputs": [],
   "source": [
    "rating_filenames = os.listdir(\"C:/Users/New User/Documents/UCD/Assignment/assignment_files/csv_downloads/rating_data/\")"
   ]
  },
  {
   "cell_type": "code",
   "execution_count": 50,
   "metadata": {},
   "outputs": [],
   "source": [
    "names_of_rating_files = list(map(extract_name_files,rating_filenames))"
   ]
  },
  {
   "cell_type": "code",
   "execution_count": 51,
   "metadata": {},
   "outputs": [],
   "source": [
    "for i in range(0,len(names_of_rating_files)):\n",
    "    exec(names_of_rating_files[i] + \" =  pd.read_csv('C:/Users/New User/Documents/UCD/Assignment/assignment_files/csv_downloads/rating_data/'+rating_filenames[i])\")"
   ]
  },
  {
   "cell_type": "code",
   "execution_count": 52,
   "metadata": {},
   "outputs": [
    {
     "name": "stdout",
     "output_type": "stream",
     "text": [
      "Variable                 Type         Data/Info\n",
      "-----------------------------------------------\n",
      "all_time_worldwide_bo    DataFrame         Rank  Year          <...>n\\n[595 rows x 6 columns]\n",
      "blockbuster              DataFrame         release_year  rank_i<...>\\n[430 rows x 13 columns]\n",
      "imdb_movie_metadata      DataFrame          color      director<...>n[5043 rows x 28 columns]\n",
      "imdb_top_1000            DataFrame                             <...>n[1000 rows x 16 columns]\n",
      "movie_industry_dataset   DataFrame                             <...>n[7633 rows x 15 columns]\n",
      "rotten_tomatoes_movie    DataFrame                            r<...>[17712 rows x 22 columns]\n",
      "tgm_bo_summary           DataFrame         Rank                <...>\\n[1000 rows x 5 columns]\n",
      "tmdb_movie               DataFrame             budget          <...>n[4803 rows x 20 columns]\n",
      "tmds_movies_metadata     DataFrame           adult             <...>[45447 rows x 24 columns]\n",
      "top_grossing_file        DataFrame         Release Date Movie T<...>\\n[3900 rows x 5 columns]\n",
      "top_grossing_film        DataFrame             Release_Type    <...>\\n[1000 rows x 7 columns]\n",
      "top_movies_data          DataFrame         Release Date Movie T<...>\\n[3900 rows x 5 columns]\n"
     ]
    }
   ],
   "source": [
    "%whos DataFrame"
   ]
  },
  {
   "cell_type": "markdown",
   "metadata": {},
   "source": [
    "The number of files loaded as DataFrames has increased by the 3 rating files"
   ]
  },
  {
   "cell_type": "code",
   "execution_count": null,
   "metadata": {},
   "outputs": [],
   "source": []
  }
 ],
 "metadata": {
  "kernelspec": {
   "display_name": "Python 3",
   "language": "python",
   "name": "python3"
  },
  "language_info": {
   "codemirror_mode": {
    "name": "ipython",
    "version": 3
   },
   "file_extension": ".py",
   "mimetype": "text/x-python",
   "name": "python",
   "nbconvert_exporter": "python",
   "pygments_lexer": "ipython3",
   "version": "3.8.5"
  }
 },
 "nbformat": 4,
 "nbformat_minor": 4
}
