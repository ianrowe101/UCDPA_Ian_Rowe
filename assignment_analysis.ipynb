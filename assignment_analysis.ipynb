{
 "cells": [
  {
   "cell_type": "code",
   "execution_count": 1,
   "metadata": {},
   "outputs": [],
   "source": [
    "import numpy as np\n",
    "import pandas as pd\n",
    "import os\n",
    "import requests\n",
    "import matplotlib.pyplot as plt\n",
    "import time\n",
    "import seaborn as sns\n",
    "import datetime\n",
    "from datetime import date\n",
    "from bs4 import BeautifulSoup as bs"
   ]
  },
  {
   "cell_type": "markdown",
   "metadata": {},
   "source": [
    "## 1. Project Overview"
   ]
  },
  {
   "cell_type": "markdown",
   "metadata": {},
   "source": [
    "The aim of the following analysis is to test out the old adage \"you have to spend money to make money\" within the film industry. As a self-anointed cinephile who spends much of his time either watching films after work or listening to film related podcasts during work, I've always been fascinated with the industry. Coming from a finance role/background, the financial side of film production has always fascinated me but I never had the tools to to obtain the sources of information required and to analyse it accordingly. \n",
    "\n",
    "This course has provided me with those missing tools and I will not let an opportunity pass to put this together both for purposes of this course and for my personal needs going forward. "
   ]
  },
  {
   "cell_type": "markdown",
   "metadata": {},
   "source": [
    "My first task in this project is to build a population of films with accurate production costs, to do this I pulled a number of .csv files from Kaggle and reviewed them in Excel prior to loading them into Python. Once I had the population and the variable (Production Cost), I then considered what other variables would be best to compare the costs against.\n",
    "\n",
    "Below are the other variables I aim to compare production costs against:\n",
    "- Worldwide Gross Amounts:\n",
    "    - Does spending more make more?\n",
    "- IMDB User Ratings:\n",
    "    - Does spending more increase audience enjoyment?\n",
    "- Rotten Tomato Critic Scores:\n",
    "    - Does spending more increase critical reception?\n",
    "\n",
    "Using these three variables, I can expand on my analysis and see if there is a genuine correlation between production cost and the other variables along with other insights that will appear as I analyse."
   ]
  },
  {
   "cell_type": "markdown",
   "metadata": {},
   "source": [
    "## 2. Data Loading and Cleansing"
   ]
  },
  {
   "cell_type": "markdown",
   "metadata": {},
   "source": [
    "The first step is to build up a population of films, I have sourced eight .csv files from Kaggle most of which provide a list of film titles, release dates/years, production costs and worldwide gross amounts. Only some of the files contain all of those variables so, I must build a Dataframes (DF) for production costs and worldwide grosses separately cleanse them removing duplicates and blanks before joining them as one. \n",
    "\n",
    "But first I should load the files:"
   ]
  },
  {
   "cell_type": "markdown",
   "metadata": {},
   "source": [
    "## Loading the Film Production/Gross Files:"
   ]
  },
  {
   "cell_type": "code",
   "execution_count": 2,
   "metadata": {},
   "outputs": [],
   "source": [
    "movie_filenames = os.listdir(\"C:/Users/New User/Documents/UCD/Assignment/assignment_files/csv_downloads/movie_data/\") # lists the csv files in my folder"
   ]
  },
  {
   "cell_type": "code",
   "execution_count": 3,
   "metadata": {},
   "outputs": [],
   "source": [
    "def extract_name_files(text): # this removes the .csv from the name the files in the folder\n",
    "    name_file = text.strip('.csv').lower()\n",
    "    return name_file"
   ]
  },
  {
   "cell_type": "code",
   "execution_count": 4,
   "metadata": {},
   "outputs": [],
   "source": [
    "names_of_movie_files = list(map(extract_name_files,movie_filenames)) # creates the list that to be used to name the dataframes from the filenames"
   ]
  },
  {
   "cell_type": "code",
   "execution_count": 5,
   "metadata": {},
   "outputs": [
    {
     "name": "stderr",
     "output_type": "stream",
     "text": [
      "C:\\Users\\New User\\anaconda3\\lib\\site-packages\\IPython\\core\\interactiveshell.py:3338: DtypeWarning: Columns (10) have mixed types.Specify dtype option on import or set low_memory=False.\n",
      "  if (await self.run_code(code, result,  async_=asy)):\n"
     ]
    }
   ],
   "source": [
    "for i in range(0,len(names_of_movie_files)): # saves each csv in a dataframe structure\n",
    "    exec(names_of_movie_files[i] + \" =  pd.read_csv('C:/Users/New User/Documents/UCD/Assignment/assignment_files/csv_downloads/movie_data/'+movie_filenames[i])\")"
   ]
  },
  {
   "cell_type": "code",
   "execution_count": 6,
   "metadata": {},
   "outputs": [
    {
     "name": "stdout",
     "output_type": "stream",
     "text": [
      "Variable                 Type         Data/Info\n",
      "-----------------------------------------------\n",
      "all_time_worldwide_bo    DataFrame         Rank  Year          <...>n\\n[595 rows x 6 columns]\n",
      "blockbuster              DataFrame         release_year  rank_i<...>\\n[430 rows x 13 columns]\n",
      "movie_industry_dataset   DataFrame                             <...>n[7633 rows x 15 columns]\n",
      "tgm_bo_summary           DataFrame         Rank                <...>\\n[1000 rows x 5 columns]\n",
      "tmdb_movie               DataFrame             budget          <...>n[4803 rows x 20 columns]\n",
      "tmds_movies_metadata     DataFrame           adult             <...>[45447 rows x 24 columns]\n",
      "top_grossing_film        DataFrame             Release_Type    <...>\\n[1000 rows x 7 columns]\n",
      "top_movies_data          DataFrame         Release Date Movie T<...>\\n[3900 rows x 5 columns]\n"
     ]
    }
   ],
   "source": [
    "# I will then use the below to display the dataframes currently loaded:\n",
    "%whos DataFrame"
   ]
  },
  {
   "cell_type": "markdown",
   "metadata": {},
   "source": [
    "## Loading the Film Rating Files:"
   ]
  },
  {
   "cell_type": "markdown",
   "metadata": {},
   "source": [
    "Repeating the same steps as before but for the film rating files in a different folder, however this time I can reuse the extract_name_files(text) function defined earlier which means one less step:"
   ]
  },
  {
   "cell_type": "code",
   "execution_count": 7,
   "metadata": {},
   "outputs": [],
   "source": [
    "rating_filenames = os.listdir(\"C:/Users/New User/Documents/UCD/Assignment/assignment_files/csv_downloads/rating_data/\")"
   ]
  },
  {
   "cell_type": "code",
   "execution_count": 8,
   "metadata": {},
   "outputs": [],
   "source": [
    "names_of_rating_files = list(map(extract_name_files,rating_filenames))"
   ]
  },
  {
   "cell_type": "code",
   "execution_count": 9,
   "metadata": {},
   "outputs": [],
   "source": [
    "for i in range(0,len(names_of_rating_files)):\n",
    "    exec(names_of_rating_files[i] + \" =  pd.read_csv('C:/Users/New User/Documents/UCD/Assignment/assignment_files/csv_downloads/rating_data/'+rating_filenames[i])\")"
   ]
  },
  {
   "cell_type": "code",
   "execution_count": 10,
   "metadata": {},
   "outputs": [
    {
     "name": "stdout",
     "output_type": "stream",
     "text": [
      "Variable                 Type         Data/Info\n",
      "-----------------------------------------------\n",
      "all_time_worldwide_bo    DataFrame         Rank  Year          <...>n\\n[595 rows x 6 columns]\n",
      "blockbuster              DataFrame         release_year  rank_i<...>\\n[430 rows x 13 columns]\n",
      "imdb_movie_metadata      DataFrame          color      director<...>n[5043 rows x 28 columns]\n",
      "imdb_top_1000            DataFrame                             <...>n[1000 rows x 16 columns]\n",
      "movie_industry_dataset   DataFrame                             <...>n[7633 rows x 15 columns]\n",
      "rotten_tomatoes_movie    DataFrame                            r<...>[17712 rows x 22 columns]\n",
      "tgm_bo_summary           DataFrame         Rank                <...>\\n[1000 rows x 5 columns]\n",
      "tmdb_movie               DataFrame             budget          <...>n[4803 rows x 20 columns]\n",
      "tmds_movies_metadata     DataFrame           adult             <...>[45447 rows x 24 columns]\n",
      "top_grossing_film        DataFrame             Release_Type    <...>\\n[1000 rows x 7 columns]\n",
      "top_movies_data          DataFrame         Release Date Movie T<...>\\n[3900 rows x 5 columns]\n"
     ]
    }
   ],
   "source": [
    "%whos DataFrame"
   ]
  },
  {
   "cell_type": "markdown",
   "metadata": {},
   "source": [
    "The number of files loaded as DataFrames has increased by the 3 rating files"
   ]
  },
  {
   "cell_type": "markdown",
   "metadata": {},
   "source": [
    "To explore the contents of these DataFrames, I will create a new DataFrame and then use a loop to present the info of each of the loaded DataFrame"
   ]
  },
  {
   "cell_type": "code",
   "execution_count": 55,
   "metadata": {},
   "outputs": [],
   "source": [
    "file_names = pd.DataFrame({'file': ['all_time_worldwide_bo','blockbuster','imdb_movie_metadata','imdb_top_1000','movie_industry_dataset',\n",
    "                                    'rotten_tomatoes_movie','tgm_bo_summary','tmdb_movie','tmds_movies_metadata','top_grossing_film','top_movies_data']})"
   ]
  },
  {
   "cell_type": "code",
   "execution_count": 69,
   "metadata": {},
   "outputs": [
    {
     "name": "stdout",
     "output_type": "stream",
     "text": [
      "all_time_worldwide_bo\n",
      "<class 'pandas.core.frame.DataFrame'>\n",
      "RangeIndex: 595 entries, 0 to 594\n",
      "Data columns (total 6 columns):\n",
      " #   Column                   Non-Null Count  Dtype \n",
      "---  ------                   --------------  ----- \n",
      " 0   Rank                     595 non-null    int64 \n",
      " 1   Year                     595 non-null    int64 \n",
      " 2   Movie                    595 non-null    object\n",
      " 3   WorldwideBox Office      595 non-null    object\n",
      " 4   DomesticBox Office       588 non-null    object\n",
      " 5   InternationalBox Office  595 non-null    object\n",
      "dtypes: int64(2), object(4)\n",
      "memory usage: 28.0+ KB\n",
      "None\n",
      "blockbuster\n",
      "<class 'pandas.core.frame.DataFrame'>\n",
      "RangeIndex: 430 entries, 0 to 429\n",
      "Data columns (total 13 columns):\n",
      " #   Column                Non-Null Count  Dtype  \n",
      "---  ------                --------------  -----  \n",
      " 0   release_year          430 non-null    int64  \n",
      " 1   rank_in_year          430 non-null    int64  \n",
      " 2   imdb_rating           430 non-null    float64\n",
      " 3   mpaa_rating           429 non-null    object \n",
      " 4   film_title            430 non-null    object \n",
      " 5   film_budget           430 non-null    object \n",
      " 6   length_in_min         430 non-null    int64  \n",
      " 7   domestic_distributor  430 non-null    object \n",
      " 8   worldwide_gross       430 non-null    object \n",
      " 9   domestic_gross        430 non-null    object \n",
      " 10  genre_1               430 non-null    object \n",
      " 11  genre_2               409 non-null    object \n",
      " 12  genre_3               324 non-null    object \n",
      "dtypes: float64(1), int64(3), object(9)\n",
      "memory usage: 43.8+ KB\n",
      "None\n",
      "imdb_movie_metadata\n",
      "<class 'pandas.core.frame.DataFrame'>\n",
      "RangeIndex: 5043 entries, 0 to 5042\n",
      "Data columns (total 28 columns):\n",
      " #   Column                     Non-Null Count  Dtype  \n",
      "---  ------                     --------------  -----  \n",
      " 0   color                      5024 non-null   object \n",
      " 1   director_name              4939 non-null   object \n",
      " 2   num_critic_for_reviews     4993 non-null   float64\n",
      " 3   duration                   5028 non-null   float64\n",
      " 4   director_facebook_likes    4939 non-null   float64\n",
      " 5   actor_3_facebook_likes     5020 non-null   float64\n",
      " 6   actor_2_name               5030 non-null   object \n",
      " 7   actor_1_facebook_likes     5036 non-null   float64\n",
      " 8   gross                      4159 non-null   float64\n",
      " 9   genres                     5043 non-null   object \n",
      " 10  actor_1_name               5036 non-null   object \n",
      " 11  movie_title                5043 non-null   object \n",
      " 12  num_voted_users            5043 non-null   int64  \n",
      " 13  cast_total_facebook_likes  5043 non-null   int64  \n",
      " 14  actor_3_name               5020 non-null   object \n",
      " 15  facenumber_in_poster       5030 non-null   float64\n",
      " 16  plot_keywords              4890 non-null   object \n",
      " 17  movie_imdb_link            5043 non-null   object \n",
      " 18  num_user_for_reviews       5022 non-null   float64\n",
      " 19  language                   5031 non-null   object \n",
      " 20  country                    5038 non-null   object \n",
      " 21  content_rating             4740 non-null   object \n",
      " 22  budget                     4551 non-null   float64\n",
      " 23  title_year                 4935 non-null   float64\n",
      " 24  actor_2_facebook_likes     5030 non-null   float64\n",
      " 25  imdb_score                 5043 non-null   float64\n",
      " 26  aspect_ratio               4714 non-null   float64\n",
      " 27  movie_facebook_likes       5043 non-null   int64  \n",
      "dtypes: float64(13), int64(3), object(12)\n",
      "memory usage: 1.1+ MB\n",
      "None\n",
      "imdb_top_1000\n",
      "<class 'pandas.core.frame.DataFrame'>\n",
      "RangeIndex: 1000 entries, 0 to 999\n",
      "Data columns (total 16 columns):\n",
      " #   Column         Non-Null Count  Dtype  \n",
      "---  ------         --------------  -----  \n",
      " 0   Poster_Link    1000 non-null   object \n",
      " 1   Series_Title   1000 non-null   object \n",
      " 2   Released_Year  1000 non-null   int64  \n",
      " 3   Certificate    899 non-null    object \n",
      " 4   Runtime        1000 non-null   object \n",
      " 5   Genre          1000 non-null   object \n",
      " 6   IMDB_Rating    1000 non-null   float64\n",
      " 7   Overview       1000 non-null   object \n",
      " 8   Meta_score     843 non-null    float64\n",
      " 9   Director       1000 non-null   object \n",
      " 10  Star1          1000 non-null   object \n",
      " 11  Star2          1000 non-null   object \n",
      " 12  Star3          1000 non-null   object \n",
      " 13  Star4          1000 non-null   object \n",
      " 14  No_of_Votes    1000 non-null   int64  \n",
      " 15  Gross          831 non-null    object \n",
      "dtypes: float64(2), int64(2), object(12)\n",
      "memory usage: 125.1+ KB\n",
      "None\n",
      "movie_industry_dataset\n",
      "<class 'pandas.core.frame.DataFrame'>\n",
      "RangeIndex: 7633 entries, 0 to 7632\n",
      "Data columns (total 15 columns):\n",
      " #   Column    Non-Null Count  Dtype  \n",
      "---  ------    --------------  -----  \n",
      " 0   name      7633 non-null   object \n",
      " 1   rating    7556 non-null   object \n",
      " 2   genre     7633 non-null   object \n",
      " 3   year      7633 non-null   int64  \n",
      " 4   released  7631 non-null   object \n",
      " 5   score     7630 non-null   float64\n",
      " 6   votes     7630 non-null   float64\n",
      " 7   director  7633 non-null   object \n",
      " 8   writer    7630 non-null   object \n",
      " 9   star      7632 non-null   object \n",
      " 10  country   7630 non-null   object \n",
      " 11  budget    5462 non-null   float64\n",
      " 12  gross     7444 non-null   float64\n",
      " 13  company   7616 non-null   object \n",
      " 14  runtime   7629 non-null   float64\n",
      "dtypes: float64(5), int64(1), object(9)\n",
      "memory usage: 894.6+ KB\n",
      "None\n",
      "rotten_tomatoes_movie\n",
      "<class 'pandas.core.frame.DataFrame'>\n",
      "RangeIndex: 17712 entries, 0 to 17711\n",
      "Data columns (total 22 columns):\n",
      " #   Column                            Non-Null Count  Dtype  \n",
      "---  ------                            --------------  -----  \n",
      " 0   rotten_tomatoes_link              17712 non-null  object \n",
      " 1   movie_title                       17712 non-null  object \n",
      " 2   movie_info                        17391 non-null  object \n",
      " 3   critics_consensus                 9134 non-null   object \n",
      " 4   content_rating                    17712 non-null  object \n",
      " 5   genres                            17693 non-null  object \n",
      " 6   directors                         17518 non-null  object \n",
      " 7   authors                           16170 non-null  object \n",
      " 8   actors                            17360 non-null  object \n",
      " 9   original_release_date             16546 non-null  object \n",
      " 10  streaming_release_date            17328 non-null  object \n",
      " 11  runtime                           17398 non-null  float64\n",
      " 12  production_company                17213 non-null  object \n",
      " 13  tomatometer_status                17668 non-null  object \n",
      " 14  tomatometer_rating                17668 non-null  float64\n",
      " 15  tomatometer_count                 17668 non-null  float64\n",
      " 16  audience_status                   17264 non-null  object \n",
      " 17  audience_rating                   17416 non-null  float64\n",
      " 18  audience_count                    17415 non-null  float64\n",
      " 19  tomatometer_top_critics_count     17712 non-null  int64  \n",
      " 20  tomatometer_fresh_critics_count   17712 non-null  int64  \n",
      " 21  tomatometer_rotten_critics_count  17712 non-null  int64  \n",
      "dtypes: float64(5), int64(3), object(14)\n",
      "memory usage: 3.0+ MB\n",
      "None\n",
      "tgm_bo_summary\n",
      "<class 'pandas.core.frame.DataFrame'>\n",
      "RangeIndex: 1000 entries, 0 to 999\n",
      "Data columns (total 5 columns):\n",
      " #   Column          Non-Null Count  Dtype \n",
      "---  ------          --------------  ----- \n",
      " 0   Rank            1000 non-null   int64 \n",
      " 1   Title           1000 non-null   object\n",
      " 2   Lifetime Gross  1000 non-null   object\n",
      " 3   Year            1000 non-null   int64 \n",
      " 4   Movie_ID        1000 non-null   object\n",
      "dtypes: int64(2), object(3)\n",
      "memory usage: 39.2+ KB\n",
      "None\n",
      "tmdb_movie\n",
      "<class 'pandas.core.frame.DataFrame'>\n",
      "RangeIndex: 4803 entries, 0 to 4802\n",
      "Data columns (total 20 columns):\n",
      " #   Column                Non-Null Count  Dtype  \n",
      "---  ------                --------------  -----  \n",
      " 0   budget                4803 non-null   int64  \n",
      " 1   genres                4803 non-null   object \n",
      " 2   homepage              1712 non-null   object \n",
      " 3   id                    4803 non-null   int64  \n",
      " 4   keywords              4803 non-null   object \n",
      " 5   original_language     4803 non-null   object \n",
      " 6   original_title        4803 non-null   object \n",
      " 7   overview              4800 non-null   object \n",
      " 8   popularity            4803 non-null   float64\n",
      " 9   production_companies  4803 non-null   object \n",
      " 10  production_countries  4803 non-null   object \n",
      " 11  release_date          4802 non-null   object \n",
      " 12  revenue               4803 non-null   int64  \n",
      " 13  runtime               4801 non-null   float64\n",
      " 14  spoken_languages      4803 non-null   object \n",
      " 15  status                4803 non-null   object \n",
      " 16  tagline               3959 non-null   object \n",
      " 17  title                 4803 non-null   object \n",
      " 18  vote_average          4803 non-null   float64\n",
      " 19  vote_count            4803 non-null   int64  \n",
      "dtypes: float64(3), int64(4), object(13)\n",
      "memory usage: 750.6+ KB\n",
      "None\n",
      "tmds_movies_metadata\n",
      "<class 'pandas.core.frame.DataFrame'>\n",
      "RangeIndex: 45447 entries, 0 to 45446\n",
      "Data columns (total 24 columns):\n",
      " #   Column                 Non-Null Count  Dtype  \n",
      "---  ------                 --------------  -----  \n",
      " 0   adult                  45447 non-null  object \n",
      " 1   belongs_to_collection  4486 non-null   object \n",
      " 2   budget                 45447 non-null  object \n",
      " 3   genres                 45447 non-null  object \n",
      " 4   homepage               7779 non-null   object \n",
      " 5   id                     45447 non-null  object \n",
      " 6   imdb_id                45430 non-null  object \n",
      " 7   original_language      45436 non-null  object \n",
      " 8   original_title         45447 non-null  object \n",
      " 9   overview               44493 non-null  object \n",
      " 10  popularity             45442 non-null  object \n",
      " 11  poster_path            45061 non-null  object \n",
      " 12  production_companies   45444 non-null  object \n",
      " 13  production_countries   45444 non-null  object \n",
      " 14  release_date           45360 non-null  object \n",
      " 15  revenue                45441 non-null  float64\n",
      " 16  runtime                45184 non-null  float64\n",
      " 17  spoken_languages       45441 non-null  object \n",
      " 18  status                 45360 non-null  object \n",
      " 19  tagline                20395 non-null  object \n",
      " 20  title                  45441 non-null  object \n",
      " 21  video                  45441 non-null  object \n",
      " 22  vote_average           45441 non-null  float64\n",
      " 23  vote_count             45441 non-null  float64\n",
      "dtypes: float64(4), object(20)\n",
      "memory usage: 8.3+ MB\n",
      "None\n",
      "top_grossing_film\n",
      "<class 'pandas.core.frame.DataFrame'>\n",
      "RangeIndex: 1000 entries, 0 to 999\n",
      "Data columns (total 7 columns):\n",
      " #   Column          Non-Null Count  Dtype \n",
      "---  ------          --------------  ----- \n",
      " 0   Release_Type    1000 non-null   object\n",
      " 1   Movie_Name      1000 non-null   object\n",
      " 2   Lifetime Gross  1000 non-null   int64 \n",
      " 3   Year            1000 non-null   int64 \n",
      " 4   Release_ID      1000 non-null   object\n",
      " 5   Movie_ID        1000 non-null   object\n",
      " 6   file_name       1000 non-null   object\n",
      "dtypes: int64(2), object(5)\n",
      "memory usage: 54.8+ KB\n",
      "None\n",
      "top_movies_data\n",
      "<class 'pandas.core.frame.DataFrame'>\n",
      "RangeIndex: 3900 entries, 0 to 3899\n",
      "Data columns (total 5 columns):\n",
      " #   Column             Non-Null Count  Dtype \n",
      "---  ------             --------------  ----- \n",
      " 0   Release Date       3879 non-null   object\n",
      " 1   Movie Title        3900 non-null   object\n",
      " 2   Production Budget  3900 non-null   int64 \n",
      " 3   Domestic Gross     3900 non-null   int64 \n",
      " 4   Worldwide Gross    3900 non-null   int64 \n",
      "dtypes: int64(3), object(2)\n",
      "memory usage: 152.5+ KB\n",
      "None\n"
     ]
    }
   ],
   "source": [
    "for index, row in file_names.iterrows():\n",
    "    print(row['file'])\n",
    "    exec('print('+row['file']+'.info())')"
   ]
  },
  {
   "cell_type": "markdown",
   "metadata": {},
   "source": [
    "The above provides me with an overview of the DFs, I can see all columns within each DF and the data type contained within each column. In building my population, I will require columns containing:\n",
    "- Film Title\n",
    "    - For Obvious Reasons\n",
    "- Release Date or Release Year\n",
    "    - While having a full release date would be perfect as it would allow analysis by month and even day, I would settle for release year if it means getting a bigger population. \n",
    "- Production Costs Amount\n",
    "    - The entire report hinges on the presence and accuracy of production costs for each film. \n",
    "\n",
    "I will start by building this population, extracting each of these columns from the files where all three columns are present, cleanse the data in each new subsetted version of the DF, amend the column headings to ensure they are uniformed in each new DF before stacking them to form a production cost population. I will then repeat the steps for the files containing gross box office figures.  \n"
   ]
  },
  {
   "cell_type": "markdown",
   "metadata": {},
   "source": [
    "## Analysis of DataFrames:"
   ]
  },
  {
   "cell_type": "markdown",
   "metadata": {},
   "source": [
    "Excluding the three film rating DFs (imdb_movie_metadata, imdb_top_1000 and rotten_tomatoes_movie) and the DFs which have no production costs or budgets (all_time_worldwide_bo, tgm_bo_summary and top_grossing_film), I am left with the following DFs and the relevent columns:\n",
    "- blockbuster\n",
    "    - release_year\n",
    "    - film_title\n",
    "    - film_budget\n",
    "    - length_in_min\n",
    "        - I am including the length to filter out movies 60 minutes or less where possible\n",
    "- movie_industry_dataset\n",
    "    - name\n",
    "    - year\n",
    "    - budget\n",
    "    - runtime\n",
    "- tmdb_movie\n",
    "    - budget\n",
    "    - release_date\n",
    "    - runtime\n",
    "    - title\n",
    "- tmds_movies_metadata\n",
    "    - budget\n",
    "    - release_date\n",
    "    - title\n",
    "    - runtime\n",
    "- top_movies_data\n",
    "    - Release Date\n",
    "    - Movie Title\n",
    "    - Production Budget\n",
    "    \n",
    "I will use the column names from the blockbuster DF and change the other columns names to match those ones. In addition to the column name changes, the following steps will be taken to cleanse each DF:\n",
    "- Filter out films 60 minutes and under\n",
    "- Filter out and rows where the production costs are blanks\n",
    "- Remove duplicates based one these two criteria in this order:\n",
    "    - film_title & release_year\n",
    "    - film_title & film_budget\n",
    "        - This should remove any potential duplicates where multiple versions of the same title appear but should also retain films with identical titles produced in different years, remakes being a prime example of this. \n",
    "\n",
    "The files should be ready to be appended on top of each other at this point. "
   ]
  },
  {
   "cell_type": "markdown",
   "metadata": {},
   "source": [
    "The next stage will be to pull together the DFs containing the film grossing data which from the loaded DFs will be along with the columns required to join with the production DFs:\n",
    "- all_time_worldwide_bo\n",
    "    - Year\n",
    "    - Movie\n",
    "    - WorldwideBox Office\n",
    "- blockbuster\n",
    "    - release_year \n",
    "    - film_title\n",
    "    - worldwide_gross   \n",
    "- movie_industry_dataset\n",
    "    - name\n",
    "    - year\n",
    "    - gross\n",
    "- tgm_bo_summary\n",
    "    - Title\n",
    "    - Lifetime Gross\n",
    "    - Year\n",
    "- tmdb_movie\n",
    "    - release_date\n",
    "    - revenue\n",
    "    - title                 \n",
    "- tmds_movies_metadata\n",
    "    - release_date\n",
    "    - revenue\n",
    "    - title\n",
    "- top_grossing_film\n",
    "    - Movie_Name\n",
    "    - Lifetime Gross\n",
    "    - Year  \n",
    "- top_movies_data\n",
    "    - Release Date\n",
    "    - Movie Title\n",
    "    - Worldwide Gross\n",
    "\n",
    "Once loaded, the same cleansing will take place along with renaming of the columns to line them up to be appended together. \n",
    "\n",
    "After creating the two new DFs for production costs and gross amounts, I carry out some additional cleansing on both files. This will include cleaning and uniforming the film titles then removing the duplicates created by the combining of the DFs. "
   ]
  },
  {
   "cell_type": "markdown",
   "metadata": {},
   "source": [
    "## Production DF Analysis"
   ]
  },
  {
   "cell_type": "code",
   "execution_count": null,
   "metadata": {},
   "outputs": [],
   "source": []
  }
 ],
 "metadata": {
  "kernelspec": {
   "display_name": "Python 3",
   "language": "python",
   "name": "python3"
  },
  "language_info": {
   "codemirror_mode": {
    "name": "ipython",
    "version": 3
   },
   "file_extension": ".py",
   "mimetype": "text/x-python",
   "name": "python",
   "nbconvert_exporter": "python",
   "pygments_lexer": "ipython3",
   "version": "3.8.5"
  }
 },
 "nbformat": 4,
 "nbformat_minor": 4
}
